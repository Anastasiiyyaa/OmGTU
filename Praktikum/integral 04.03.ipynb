{
 "cells": [
  {
   "cell_type": "code",
   "execution_count": 1,
   "metadata": {
    "dotnet_interactive": {
     "language": "csharp"
    },
    "polyglot_notebook": {
     "kernelName": "csharp"
    }
   },
   "outputs": [
    {
     "data": {
      "text/html": [
       "<div class=\"dni-plaintext\"><pre>35.99639999999999</pre></div><style>\r\n",
       ".dni-code-hint {\r\n",
       "    font-style: italic;\r\n",
       "    overflow: hidden;\r\n",
       "    white-space: nowrap;\r\n",
       "}\r\n",
       ".dni-treeview {\r\n",
       "    white-space: nowrap;\r\n",
       "}\r\n",
       ".dni-treeview td {\r\n",
       "    vertical-align: top;\r\n",
       "    text-align: start;\r\n",
       "}\r\n",
       "details.dni-treeview {\r\n",
       "    padding-left: 1em;\r\n",
       "}\r\n",
       "table td {\r\n",
       "    text-align: start;\r\n",
       "}\r\n",
       "table tr { \r\n",
       "    vertical-align: top; \r\n",
       "    margin: 0em 0px;\r\n",
       "}\r\n",
       "table tr td pre \r\n",
       "{ \r\n",
       "    vertical-align: top !important; \r\n",
       "    margin: 0em 0px !important;\r\n",
       "} \r\n",
       "table th {\r\n",
       "    text-align: start;\r\n",
       "}\r\n",
       "</style>"
      ]
     },
     "metadata": {},
     "output_type": "display_data"
    }
   ],
   "source": [
    "class TrapezoidalRule {\n",
    "    public static double Solve(Func<double, double> f, double a, double b, int kolvo) {\n",
    "        double dx = Math.Abs(b - a) / kolvo;\n",
    "        double eps = 1E-7;\n",
    "        if (dx <= eps || b<a || !Double.IsFinite(a + b + dx))\n",
    "        throw new ArgumentException(\"Данные введены неправильно\");\n",
    "        if (Math.Abs(b-a) < eps) return 0;\n",
    "        double integ = (f(a) + f(b))/2;\n",
    "        double n = Math.Abs(b-a)/dx; \n",
    "        for (int i = 1; i<n; i++){\n",
    "           integ+= f(a + i*dx);\n",
    "        }\n",
    "        integ= integ*dx;\n",
    "        return integ;\n",
    "    }\n",
    "}\n",
    "Func<double, double> f = (double x) =>  -x * x + 9;\n",
    "\n",
    "var answ = TrapezoidalRule.Solve(f, -3, 3, 100);\n",
    "answ"
   ]
  },
  {
   "cell_type": "code",
   "execution_count": 2,
   "metadata": {
    "dotnet_interactive": {
     "language": "csharp"
    },
    "polyglot_notebook": {
     "kernelName": "csharp"
    }
   },
   "outputs": [
    {
     "data": {
      "text/html": [
       "<div class=\"dni-plaintext\"><pre>35.99639999999999</pre></div><style>\r\n",
       ".dni-code-hint {\r\n",
       "    font-style: italic;\r\n",
       "    overflow: hidden;\r\n",
       "    white-space: nowrap;\r\n",
       "}\r\n",
       ".dni-treeview {\r\n",
       "    white-space: nowrap;\r\n",
       "}\r\n",
       ".dni-treeview td {\r\n",
       "    vertical-align: top;\r\n",
       "    text-align: start;\r\n",
       "}\r\n",
       "details.dni-treeview {\r\n",
       "    padding-left: 1em;\r\n",
       "}\r\n",
       "table td {\r\n",
       "    text-align: start;\r\n",
       "}\r\n",
       "table tr { \r\n",
       "    vertical-align: top; \r\n",
       "    margin: 0em 0px;\r\n",
       "}\r\n",
       "table tr td pre \r\n",
       "{ \r\n",
       "    vertical-align: top !important; \r\n",
       "    margin: 0em 0px !important;\r\n",
       "} \r\n",
       "table th {\r\n",
       "    text-align: start;\r\n",
       "}\r\n",
       "</style>"
      ]
     },
     "metadata": {},
     "output_type": "display_data"
    }
   ],
   "source": [
    "class TrapezoidalRule2\n",
    "{\n",
    "    public static double Solve(Func<double, double> f, double a, double b, int kolvo) \n",
    "    {\n",
    "        double dx = Math.Abs(b - a) / kolvo;\n",
    "        double eps = 1E-7;\n",
    "        if (dx < eps || b < a || !Double.IsFinite(a + b + dx))\n",
    "            throw new ArgumentException(\"Данные введены неправильно\");\n",
    "        if (Math.Abs(b - a) < eps) return 0;\n",
    "        return ((f(a) + f(b))/2 + Enumerable.Range(1, kolvo - 1).Select(i => f(a + dx * i)).Sum()) * dx;\n",
    "    }\n",
    "}\n",
    "Func<double, double> f = (double x) =>  -x * x + 9;\n",
    "\n",
    "var answ = TrapezoidalRule2.Solve(f, -3, 3, 100);\n",
    "answ"
   ]
  }
 ],
 "metadata": {
  "kernelspec": {
   "display_name": ".NET (C#)",
   "language": "C#",
   "name": ".net-csharp"
  },
  "language_info": {
   "name": "polyglot-notebook"
  },
  "polyglot_notebook": {
   "kernelInfo": {
    "defaultKernelName": "csharp",
    "items": [
     {
      "aliases": [],
      "languageName": "csharp",
      "name": "csharp"
     }
    ]
   }
  }
 },
 "nbformat": 4,
 "nbformat_minor": 2
}
