{
 "cells": [
  {
   "cell_type": "code",
   "execution_count": 137,
   "metadata": {
    "dotnet_interactive": {
     "language": "csharp"
    },
    "polyglot_notebook": {
     "kernelName": "csharp"
    }
   },
   "outputs": [
    {
     "name": "stdout",
     "output_type": "stream",
     "text": [
      "wdroqlpqnd\n",
      "Время StringBuilder: 10 ms\n"
     ]
    }
   ],
   "source": [
    "using System.Diagnostics;\n",
    "var rand = new Random();\n",
    "StringBuilder stringBuilder = new StringBuilder(\"abcdefghij\", 10);\n",
    "if (stringBuilder.Capacity > 10)\n",
    "{\n",
    "    Console.WriteLine(\"В строке больше 10 симвволов\");\n",
    "}\n",
    "else\n",
    "{\n",
    "    Stopwatch time = Stopwatch.StartNew();\n",
    "    \n",
    "    for (int i = 0; i < 1000000; i++)\n",
    "        {    \n",
    "            stringBuilder[i%10] = (char)('a' + rand.Next(0, 26));\n",
    "        }\n",
    "    time.Stop();\n",
    "    Console.WriteLine(stringBuilder.ToString());\n",
    "    Console.WriteLine($\"Время StringBuilder: {time.ElapsedMilliseconds} ms\");\n",
    "}\n"
   ]
  },
  {
   "cell_type": "code",
   "execution_count": 138,
   "metadata": {
    "dotnet_interactive": {
     "language": "csharp"
    },
    "polyglot_notebook": {
     "kernelName": "csharp"
    }
   },
   "outputs": [
    {
     "name": "stdout",
     "output_type": "stream",
     "text": [
      "cvzhzxkcyi\n",
      "Время String: 59 ms\n"
     ]
    }
   ],
   "source": [
    "var rand = new Random();\n",
    "string str = \"abcdefghij\";\n",
    "if (str.Length > 10)\n",
    "{\n",
    "    Console.WriteLine(\"В строке больше 10 симвволов\");\n",
    "}\n",
    "else\n",
    "{\n",
    "    Stopwatch time = Stopwatch.StartNew();\n",
    "\n",
    "    for (int i = 0; i < 1000000; i++)\n",
    "        {\n",
    "            char sym = (char)('a' + rand.Next(0, 26));\n",
    "            str = str.Substring(0, i%10) + sym.ToString() +  str.Substring(i%10 + 1);\n",
    "        }\n",
    "\n",
    "    time.Stop();\n",
    "    Console.WriteLine(str);\n",
    "    Console.WriteLine($\"Время String: {time.ElapsedMilliseconds} ms\");\n",
    "}"
   ]
  },
  {
   "cell_type": "markdown",
   "metadata": {},
   "source": [
    "Часть 2"
   ]
  },
  {
   "cell_type": "code",
   "execution_count": 139,
   "metadata": {
    "dotnet_interactive": {
     "language": "csharp"
    },
    "polyglot_notebook": {
     "kernelName": "csharp"
    }
   },
   "outputs": [
    {
     "name": "stdout",
     "output_type": "stream",
     "text": [
      "Строка введена в 24-часовом формате\r\n"
     ]
    }
   ],
   "source": [
    "using System.Text.RegularExpressions;\n",
    "string time = \"23:50:00\";\n",
    "string pattern =  \"^(2[0-3]|[01]?[0-9])(:| |.)([0-5]?[0-9])(:| |.)([0-5]?[0-9])$\";\n",
    "Regex regex = new Regex(pattern);\n",
    "if (regex.IsMatch(time))\n",
    "{\n",
    "    Console.WriteLine(\"Строка введена в 24-часовом формате\");\n",
    "}\n",
    "else\n",
    "{\n",
    "    Console.WriteLine(\"Строка введена в неправильном формате\");\n",
    "}"
   ]
  }
 ],
 "metadata": {
  "kernelspec": {
   "display_name": ".NET (C#)",
   "language": "C#",
   "name": ".net-csharp"
  },
  "language_info": {
   "name": "polyglot-notebook"
  },
  "polyglot_notebook": {
   "kernelInfo": {
    "defaultKernelName": "csharp",
    "items": [
     {
      "aliases": [],
      "languageName": "csharp",
      "name": "csharp"
     }
    ]
   }
  }
 },
 "nbformat": 4,
 "nbformat_minor": 2
}
